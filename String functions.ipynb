{
 "cells": [
  {
   "cell_type": "markdown",
   "id": "87f6ea71-c0a9-4788-bd03-d152b57d7793",
   "metadata": {
    "jp-MarkdownHeadingCollapsed": true
   },
   "source": [
    "# import Library"
   ]
  },
  {
   "cell_type": "code",
   "execution_count": 1,
   "id": "717f91e2-b9e3-4bb0-96a1-b0811645da21",
   "metadata": {},
   "outputs": [],
   "source": [
    "import os\n",
    "import sys"
   ]
  },
  {
   "cell_type": "code",
   "execution_count": 2,
   "id": "3f10904d-1ddd-4e0f-aa8a-d983499deb87",
   "metadata": {},
   "outputs": [],
   "source": [
    "a='@abC D 12*- Jack. i am learning string functions.'"
   ]
  },
  {
   "cell_type": "markdown",
   "id": "1ce8cf15-718d-46ca-b0ce-c4490d24543b",
   "metadata": {},
   "source": [
    "# String functions"
   ]
  },
  {
   "cell_type": "markdown",
   "id": "221589b3-d77d-4de7-ae75-1908c18c8cbd",
   "metadata": {
    "jp-MarkdownHeadingCollapsed": true,
    "scrolled": true
   },
   "source": [
    "## Capitalise only first letter of string\n",
    "Capitalises the first alphabet in the string"
   ]
  },
  {
   "cell_type": "code",
   "execution_count": 3,
   "id": "1aee9f36-8361-416b-82ab-34a3f949cbb2",
   "metadata": {},
   "outputs": [
    {
     "data": {
      "text/plain": [
       "'@abc d 12*- jack. i am learning string functions.'"
      ]
     },
     "execution_count": 3,
     "metadata": {},
     "output_type": "execute_result"
    }
   ],
   "source": [
    "#str.capitalize(a)\n",
    "a.capitalize()"
   ]
  },
  {
   "cell_type": "markdown",
   "id": "fd99652a-dc8a-4248-8913-5ec722e38410",
   "metadata": {
    "jp-MarkdownHeadingCollapsed": true,
    "scrolled": true
   },
   "source": [
    "## Caseless String\n",
    "Signature: str.casefold(self, /)\r\n",
    "Docstring: Return a version of the string suitable for caseless comparisons."
   ]
  },
  {
   "cell_type": "code",
   "execution_count": 4,
   "id": "a13bc582-134f-49c7-aefd-1c2110b97c40",
   "metadata": {},
   "outputs": [
    {
     "data": {
      "text/plain": [
       "'@abc d 12*- jack. i am learning string functions.'"
      ]
     },
     "execution_count": 4,
     "metadata": {},
     "output_type": "execute_result"
    }
   ],
   "source": [
    "#str.casefold(a)\n",
    "a.casefold()"
   ]
  },
  {
   "cell_type": "markdown",
   "id": "fc0765e9-21c5-4421-879d-27c4bc55f24c",
   "metadata": {
    "jp-MarkdownHeadingCollapsed": true,
    "scrolled": true
   },
   "source": [
    "## Center String\n",
    "pads the string with specified char and aligs in the centerethod."
   ]
  },
  {
   "cell_type": "code",
   "execution_count": 5,
   "id": "5a30ca97-fc46-41b9-9747-09eca1804b29",
   "metadata": {},
   "outputs": [
    {
     "name": "stdout",
     "output_type": "stream",
     "text": [
      "****************************************** End of Script *******************************************\n",
      "********************************************** Begin ***********************************************\n",
      "100\n"
     ]
    }
   ],
   "source": [
    "#str.center(a)\n",
    "print(' End of Script '.center(100,'*')) #generates string with 100 char and aligns the orignal string in the middle\n",
    "print(' Begin '.center(100,'*'))\n",
    "print(len(' End of Script '.center(100,'*')))"
   ]
  },
  {
   "cell_type": "markdown",
   "id": "63152899-b9a7-4ed7-90a1-5880b616df18",
   "metadata": {
    "jp-MarkdownHeadingCollapsed": true,
    "scrolled": true
   },
   "source": [
    "## Count String\n",
    "Gives count of strings specified in a in the parent string or its substringmethod"
   ]
  },
  {
   "cell_type": "code",
   "execution_count": 6,
   "id": "bbecb292-3241-4be4-96d1-70fe58575dad",
   "metadata": {},
   "outputs": [
    {
     "name": "stdout",
     "output_type": "stream",
     "text": [
      "- Jack. i \n",
      "1 \n",
      "\n",
      "\n",
      "@abC D 12*- Jack. i am learning string functions.\n"
     ]
    },
    {
     "data": {
      "text/plain": [
       "4"
      ]
     },
     "execution_count": 6,
     "metadata": {},
     "output_type": "execute_result"
    }
   ],
   "source": [
    "print(a[10:20])\n",
    "print(a.count('i',10,20),'\\n\\n')\n",
    "\n",
    "print(a)\n",
    "a.count('i')"
   ]
  },
  {
   "cell_type": "markdown",
   "id": "669731bd-e924-429c-b10b-2dccc10bc3d3",
   "metadata": {
    "jp-MarkdownHeadingCollapsed": true,
    "scrolled": true
   },
   "source": [
    "## Encode String\n",
    "encode string returns byte string with defined encoding and error handling"
   ]
  },
  {
   "cell_type": "code",
   "execution_count": 7,
   "id": "fc5cc83c-24e0-4052-bb59-432ff349c213",
   "metadata": {},
   "outputs": [
    {
     "data": {
      "text/plain": [
       "b'@abC D 12*- Jack. i am learning string functions.'"
      ]
     },
     "execution_count": 7,
     "metadata": {},
     "output_type": "execute_result"
    }
   ],
   "source": [
    "a.encode()"
   ]
  },
  {
   "cell_type": "code",
   "execution_count": 8,
   "id": "71b78ca3-598c-42c6-934e-cf61333c37e6",
   "metadata": {
    "scrolled": true
   },
   "outputs": [
    {
     "name": "stdout",
     "output_type": "stream",
     "text": [
      "b''\n",
      "b'\\\\xc7'\n",
      "b'\\\\N{LATIN CAPITAL LETTER C WITH CEDILLA}'\n",
      "b'?'\n",
      "b'&#199;'\n"
     ]
    }
   ],
   "source": [
    "print('Ç'.encode('ascii',errors='ignore'))            #ignores the characters that cannot be encoded\n",
    "print('Ç'.encode('ascii',errors='backslashreplace'))  #uses a backslash instead of the character that could not be encoded\n",
    "print('Ç'.encode('ascii',errors='namereplace'))       #replaces the character with a text explaining the character\n",
    "print('Ç'.encode('ascii',errors='replace'))           #replaces the character with a questionmark\n",
    "print('Ç'.encode('ascii',errors='xmlcharrefreplace')) #replaces the character with an xml character\n",
    "#'Ç'.encode('ascii',errors='strict')                  #Default, raises an error on failure"
   ]
  },
  {
   "cell_type": "code",
   "execution_count": null,
   "id": "5f5933df-9e05-4c46-8e3a-e2aace489c39",
   "metadata": {},
   "outputs": [],
   "source": []
  },
  {
   "cell_type": "markdown",
   "id": "79c0bf6a-c606-47c5-8a78-956d23e08d48",
   "metadata": {
    "jp-MarkdownHeadingCollapsed": true,
    "scrolled": true
   },
   "source": [
    "## Ends with flag for String\n",
    "true/false to know if a string/substring ends with a passed string"
   ]
  },
  {
   "cell_type": "code",
   "execution_count": 9,
   "id": "34c0c1a3-3b33-4166-908b-c7b1d216f0f0",
   "metadata": {},
   "outputs": [
    {
     "name": "stdout",
     "output_type": "stream",
     "text": [
      "@abC D 12*- Jack. i am learning string functions.\n"
     ]
    },
    {
     "data": {
      "text/plain": [
       "True"
      ]
     },
     "execution_count": 9,
     "metadata": {},
     "output_type": "execute_result"
    }
   ],
   "source": [
    "print(a)\n",
    "a.endswith('ions.')"
   ]
  },
  {
   "cell_type": "code",
   "execution_count": 10,
   "id": "85a687af-97a2-45d0-a4ee-34a277cd0544",
   "metadata": {},
   "outputs": [
    {
     "name": "stdout",
     "output_type": "stream",
     "text": [
      "@abC D 12*- Jack.\n"
     ]
    },
    {
     "data": {
      "text/plain": [
       "True"
      ]
     },
     "execution_count": 10,
     "metadata": {},
     "output_type": "execute_result"
    }
   ],
   "source": [
    "print(a[:-32])\n",
    "a.endswith('Jack.',1,-32)"
   ]
  },
  {
   "cell_type": "code",
   "execution_count": null,
   "id": "182f72ab-acb8-4d47-9590-606f6978ffe7",
   "metadata": {},
   "outputs": [],
   "source": []
  },
  {
   "cell_type": "markdown",
   "id": "f2ffdaf6-de9f-4944-a0c9-8c88e81011fb",
   "metadata": {
    "jp-MarkdownHeadingCollapsed": true,
    "scrolled": true
   },
   "source": [
    "## Expand tabs\n",
    "Expands the \\t char in the string and replaces with specified number of spaces. default is 8 spaces for one tab."
   ]
  },
  {
   "cell_type": "code",
   "execution_count": 11,
   "id": "cbcbb313-c93e-4d27-a56f-69c7903d9281",
   "metadata": {},
   "outputs": [
    {
     "name": "stdout",
     "output_type": "stream",
     "text": [
      "2\n",
      "9\n"
     ]
    },
    {
     "data": {
      "text/plain": [
       "'        \\n'"
      ]
     },
     "execution_count": 11,
     "metadata": {},
     "output_type": "execute_result"
    }
   ],
   "source": [
    "print(len('\\t\\n'))\n",
    "print(len('\\t\\n'.expandtabs()))\n",
    "'\\t\\n'.expandtabs()"
   ]
  },
  {
   "cell_type": "code",
   "execution_count": 12,
   "id": "7a38da04-8a21-4ead-a937-4e2d6fc62fa7",
   "metadata": {},
   "outputs": [
    {
     "name": "stdout",
     "output_type": "stream",
     "text": [
      "1\n"
     ]
    },
    {
     "data": {
      "text/plain": [
       "'\\n'"
      ]
     },
     "execution_count": 12,
     "metadata": {},
     "output_type": "execute_result"
    }
   ],
   "source": [
    "print(len('\\t\\n'.expandtabs(0)))\n",
    "'\\t\\n'.expandtabs(0)"
   ]
  },
  {
   "cell_type": "code",
   "execution_count": 13,
   "id": "fde5d204-6fe5-4428-ac28-d28bc8c4e523",
   "metadata": {},
   "outputs": [
    {
     "data": {
      "text/plain": [
       "' \\n'"
      ]
     },
     "execution_count": 13,
     "metadata": {},
     "output_type": "execute_result"
    }
   ],
   "source": [
    "'\\t\\n'.expandtabs(1)"
   ]
  },
  {
   "cell_type": "code",
   "execution_count": 14,
   "id": "a6451b57-4448-4892-bd2e-a831c648be35",
   "metadata": {},
   "outputs": [
    {
     "name": "stdout",
     "output_type": "stream",
     "text": [
      "11\n"
     ]
    },
    {
     "data": {
      "text/plain": [
       "'          \\n'"
      ]
     },
     "execution_count": 14,
     "metadata": {},
     "output_type": "execute_result"
    }
   ],
   "source": [
    "print(len('\\t\\n'.expandtabs(10)))\n",
    "'\\t\\n'.expandtabs(10)"
   ]
  },
  {
   "cell_type": "code",
   "execution_count": null,
   "id": "10d63228-14f3-437f-a4c3-5c7ca7b1d53a",
   "metadata": {},
   "outputs": [],
   "source": []
  },
  {
   "cell_type": "markdown",
   "id": "8b1be5e8-12ae-493a-94f9-05820919e638",
   "metadata": {
    "jp-MarkdownHeadingCollapsed": true,
    "scrolled": true
   },
   "source": [
    "## Find location of string\n",
    "Expands the \\t char in the string and replaces with specified number of spaces."
   ]
  },
  {
   "cell_type": "code",
   "execution_count": 15,
   "id": "1dca1dfb-6eee-46e2-9a0d-106739009837",
   "metadata": {},
   "outputs": [
    {
     "name": "stdout",
     "output_type": "stream",
     "text": [
      "@abC D 12*- Jack. i am learning string functions.\n"
     ]
    },
    {
     "data": {
      "text/plain": [
       "3"
      ]
     },
     "execution_count": 15,
     "metadata": {},
     "output_type": "execute_result"
    }
   ],
   "source": [
    "print(a)\n",
    "a.find('C')"
   ]
  },
  {
   "cell_type": "code",
   "execution_count": 16,
   "id": "ed798a54-f523-4e11-b66d-6061ef9aa231",
   "metadata": {},
   "outputs": [
    {
     "name": "stdout",
     "output_type": "stream",
     "text": [
      "am learning string functions.\n",
      "29\n"
     ]
    },
    {
     "data": {
      "text/plain": [
       "21"
      ]
     },
     "execution_count": 16,
     "metadata": {},
     "output_type": "execute_result"
    }
   ],
   "source": [
    "print(a[20:])\n",
    "print(len(a[20:]))\n",
    "a.find('m',20,)   # Returns the position in the original string"
   ]
  },
  {
   "cell_type": "code",
   "execution_count": 17,
   "id": "aa244c42-24cc-462e-9db1-a803c8a0cfa8",
   "metadata": {},
   "outputs": [
    {
     "name": "stdout",
     "output_type": "stream",
     "text": [
      "@abC D 12*- Jack. i am learning string functions.\n"
     ]
    },
    {
     "data": {
      "text/plain": [
       "3"
      ]
     },
     "execution_count": 17,
     "metadata": {},
     "output_type": "execute_result"
    }
   ],
   "source": [
    "print(a)\n",
    "a.find('C')"
   ]
  },
  {
   "cell_type": "markdown",
   "id": "dba0788f-559f-43c5-bbad-a3f4b3658b43",
   "metadata": {
    "jp-MarkdownHeadingCollapsed": true,
    "scrolled": true
   },
   "source": [
    "## Format string\n",
    "Returns a formatted version of String"
   ]
  },
  {
   "cell_type": "code",
   "execution_count": 18,
   "id": "48787b31-3d6e-4d80-980b-323315bdab24",
   "metadata": {},
   "outputs": [
    {
     "name": "stdout",
     "output_type": "stream",
     "text": [
      "My name is John, I'm 36\n",
      "My name is John, I'm 36\n"
     ]
    },
    {
     "data": {
      "text/plain": [
       "\"My name is John, I'm 36\""
      ]
     },
     "execution_count": 18,
     "metadata": {},
     "output_type": "execute_result"
    }
   ],
   "source": [
    "print(\"My name is {fname}, I'm {age}\".format(fname = \"John\", age = 36))\n",
    "print(\"My name is {0}, I'm {1}\".format(\"John\",36))\n",
    "\"My name is {}, I'm {}\".format(\"John\",36)"
   ]
  },
  {
   "cell_type": "markdown",
   "id": "e0d149c0-5896-4f25-92f5-2b5f57b57da5",
   "metadata": {
    "jp-MarkdownHeadingCollapsed": true
   },
   "source": [
    "## Format string by a map"
   ]
  },
  {
   "cell_type": "code",
   "execution_count": 19,
   "id": "95450cb2-6254-4013-acfe-966cb005b244",
   "metadata": {},
   "outputs": [
    {
     "data": {
      "text/plain": [
       "'Hi! My name is M.J.'"
      ]
     },
     "execution_count": 19,
     "metadata": {},
     "output_type": "execute_result"
    }
   ],
   "source": [
    "Print_statement='Hi! My name is {fname}{lname}'\n",
    "dict_variables={'fname': 'M.','lname': 'J.'}\n",
    "Print_statement.format_map(dict_variables)"
   ]
  },
  {
   "cell_type": "code",
   "execution_count": null,
   "id": "0dbfc6c2-d352-4d52-9996-67c96698bb4f",
   "metadata": {},
   "outputs": [],
   "source": []
  },
  {
   "cell_type": "markdown",
   "id": "89a4920d-357a-422d-a154-f7226ddc14a8",
   "metadata": {
    "jp-MarkdownHeadingCollapsed": true
   },
   "source": [
    "## Find Index \n",
    "Main diff. between find and index function is that find returns -1 when the search has no results and index throws out a valueerror."
   ]
  },
  {
   "cell_type": "code",
   "execution_count": 20,
   "id": "89a4a039-debd-42b5-96d6-db52a414a47d",
   "metadata": {},
   "outputs": [
    {
     "name": "stdout",
     "output_type": "stream",
     "text": [
      "@abC D 12*- Jack. i am learning string functions.\n"
     ]
    },
    {
     "data": {
      "text/plain": [
       "18"
      ]
     },
     "execution_count": 20,
     "metadata": {},
     "output_type": "execute_result"
    }
   ],
   "source": [
    "print(a)\n",
    "a.index('i',0,20)"
   ]
  },
  {
   "cell_type": "code",
   "execution_count": null,
   "id": "bdc7678f-cb44-4654-bd8a-0fdccdea6935",
   "metadata": {},
   "outputs": [],
   "source": []
  },
  {
   "cell_type": "markdown",
   "id": "384d6155-9240-4324-a0d0-1b92a523aa08",
   "metadata": {
    "jp-MarkdownHeadingCollapsed": true
   },
   "source": [
    "## Is alpha neumeric\n",
    "The functions returns a True/False flag. false if there are specialcharacters present including - and . which may represent a decimal or negative number."
   ]
  },
  {
   "cell_type": "code",
   "execution_count": 21,
   "id": "090685ef-69eb-4f20-93af-2d7c66387543",
   "metadata": {},
   "outputs": [
    {
     "data": {
      "text/plain": [
       "True"
      ]
     },
     "execution_count": 21,
     "metadata": {},
     "output_type": "execute_result"
    }
   ],
   "source": [
    "'1'.isalnum()"
   ]
  },
  {
   "cell_type": "code",
   "execution_count": 22,
   "id": "c1c62813-3306-4399-b680-864105172135",
   "metadata": {},
   "outputs": [
    {
     "name": "stdout",
     "output_type": "stream",
     "text": [
      "True\n"
     ]
    },
    {
     "data": {
      "text/plain": [
       "True"
      ]
     },
     "execution_count": 22,
     "metadata": {},
     "output_type": "execute_result"
    }
   ],
   "source": [
    "print('a'.isalnum())\n",
    "'ab1'.isalnum()"
   ]
  },
  {
   "cell_type": "code",
   "execution_count": 23,
   "id": "b2dc4147-7d45-4212-9b2f-042cf64ef733",
   "metadata": {},
   "outputs": [
    {
     "data": {
      "text/plain": [
       "True"
      ]
     },
     "execution_count": 23,
     "metadata": {},
     "output_type": "execute_result"
    }
   ],
   "source": [
    "\"⅔\".isalnum()"
   ]
  },
  {
   "cell_type": "markdown",
   "id": "c80f06ff-d723-4794-abc7-7dc19358bad3",
   "metadata": {
    "jp-MarkdownHeadingCollapsed": true
   },
   "source": [
    "## Is alpha\n",
    "The functions returns a True/False flag. false if there are specialcharacters present including - and . which may represent a decimal or negative number. checks if straing is made of alphabets only."
   ]
  },
  {
   "cell_type": "code",
   "execution_count": 24,
   "id": "1c9234c4-bae5-4417-9d50-61850be4ea15",
   "metadata": {},
   "outputs": [
    {
     "data": {
      "text/plain": [
       "True"
      ]
     },
     "execution_count": 24,
     "metadata": {},
     "output_type": "execute_result"
    }
   ],
   "source": [
    "'A'.isalpha()"
   ]
  },
  {
   "cell_type": "code",
   "execution_count": null,
   "id": "3b352787-60cc-4576-86f6-bc18b0a975bf",
   "metadata": {},
   "outputs": [],
   "source": []
  },
  {
   "cell_type": "markdown",
   "id": "de54a3e3-ffbb-4de4-a469-e8f9dcc26e25",
   "metadata": {
    "jp-MarkdownHeadingCollapsed": true
   },
   "source": [
    "## Is ascii\n",
    "Usage: This tells you if you can convert the string obejct into ascii encoding."
   ]
  },
  {
   "cell_type": "code",
   "execution_count": 25,
   "id": "7cac723e-2ffb-4fa9-97a9-2f21990c6aeb",
   "metadata": {},
   "outputs": [
    {
     "data": {
      "text/plain": [
       "True"
      ]
     },
     "execution_count": 25,
     "metadata": {},
     "output_type": "execute_result"
    }
   ],
   "source": [
    "a.isascii()"
   ]
  },
  {
   "cell_type": "code",
   "execution_count": 26,
   "id": "0facd802-d29a-4a3e-8d0a-b9512e9ee1de",
   "metadata": {},
   "outputs": [
    {
     "data": {
      "text/plain": [
       "False"
      ]
     },
     "execution_count": 26,
     "metadata": {},
     "output_type": "execute_result"
    }
   ],
   "source": [
    "'This is a cedilla delimited record: aÇb'.isascii()"
   ]
  },
  {
   "cell_type": "code",
   "execution_count": 27,
   "id": "94a0b12e-6869-4ca5-849b-c1501df9fcf8",
   "metadata": {},
   "outputs": [
    {
     "ename": "TypeError",
     "evalue": "descriptor 'isascii' for 'str' objects doesn't apply to a 'bytes' object",
     "output_type": "error",
     "traceback": [
      "\u001b[1;31m---------------------------------------------------------------------------\u001b[0m",
      "\u001b[1;31mTypeError\u001b[0m                                 Traceback (most recent call last)",
      "Cell \u001b[1;32mIn[27], line 1\u001b[0m\n\u001b[1;32m----> 1\u001b[0m \u001b[38;5;28;43mstr\u001b[39;49m\u001b[38;5;241;43m.\u001b[39;49m\u001b[43misascii\u001b[49m\u001b[43m(\u001b[49m\u001b[38;5;124;43m'\u001b[39;49m\u001b[38;5;124;43mThis tests if bytes strings get recognised by isascii function\u001b[39;49m\u001b[38;5;124;43m'\u001b[39;49m\u001b[38;5;241;43m.\u001b[39;49m\u001b[43mencode\u001b[49m\u001b[43m(\u001b[49m\u001b[38;5;124;43m'\u001b[39;49m\u001b[38;5;124;43mascii\u001b[39;49m\u001b[38;5;124;43m'\u001b[39;49m\u001b[43m)\u001b[49m\u001b[43m)\u001b[49m\n\u001b[0;32m      2\u001b[0m \u001b[38;5;66;03m# As expected, this function only takes param 'self' as a string.\u001b[39;00m\n",
      "\u001b[1;31mTypeError\u001b[0m: descriptor 'isascii' for 'str' objects doesn't apply to a 'bytes' object"
     ]
    }
   ],
   "source": [
    "str.isascii('This tests if bytes strings get recognised by isascii function'.encode('ascii'))\n",
    "# As expected, this function only takes param 'self' as a string."
   ]
  },
  {
   "cell_type": "markdown",
   "id": "fba8b7c8-f8f3-4fc0-b66f-faeadb1343fd",
   "metadata": {
    "jp-MarkdownHeadingCollapsed": true
   },
   "source": [
    "## isdecimal()\n",
    "Usage: checks if string has strictly numerical chars."
   ]
  },
  {
   "cell_type": "code",
   "execution_count": 28,
   "id": "abf8fa86-d10b-47a9-bc14-048124d9f9a1",
   "metadata": {},
   "outputs": [
    {
     "data": {
      "text/plain": [
       "False"
      ]
     },
     "execution_count": 28,
     "metadata": {},
     "output_type": "execute_result"
    }
   ],
   "source": [
    "'-14'.isdecimal()\n"
   ]
  },
  {
   "cell_type": "code",
   "execution_count": 29,
   "id": "12722de4-1c34-4094-96ae-12dbac9ca805",
   "metadata": {},
   "outputs": [
    {
     "data": {
      "text/plain": [
       "False"
      ]
     },
     "execution_count": 29,
     "metadata": {},
     "output_type": "execute_result"
    }
   ],
   "source": [
    "\"⅔\".isdecimal()"
   ]
  },
  {
   "cell_type": "code",
   "execution_count": null,
   "id": "6f31a191-3b04-465d-94dd-10625173f41c",
   "metadata": {},
   "outputs": [],
   "source": []
  },
  {
   "cell_type": "code",
   "execution_count": null,
   "id": "0007c3cf-eb4f-4a9f-bc34-559596e18870",
   "metadata": {},
   "outputs": [],
   "source": []
  },
  {
   "cell_type": "markdown",
   "id": "8da37897-4a4a-4aa4-9c7d-212fb23414fd",
   "metadata": {
    "jp-MarkdownHeadingCollapsed": true
   },
   "source": [
    "## isdigit()\n",
    "subtle difference b/w is decimal, isnumeric, isdecimal"
   ]
  },
  {
   "cell_type": "code",
   "execution_count": 30,
   "id": "a954942c-1d65-45e6-ab6e-c7a87b875f00",
   "metadata": {},
   "outputs": [
    {
     "data": {
      "text/plain": [
       "True"
      ]
     },
     "execution_count": 30,
     "metadata": {},
     "output_type": "execute_result"
    }
   ],
   "source": [
    "\"4²\".isdigit()"
   ]
  },
  {
   "cell_type": "code",
   "execution_count": null,
   "id": "1d443761-fa04-4b96-8475-101d98591ae0",
   "metadata": {},
   "outputs": [],
   "source": []
  },
  {
   "cell_type": "code",
   "execution_count": null,
   "id": "6208e282-c761-4116-a098-d7c183152c8b",
   "metadata": {},
   "outputs": [],
   "source": []
  },
  {
   "cell_type": "markdown",
   "id": "479f147c-6313-41de-9272-b7e82ce08914",
   "metadata": {
    "jp-MarkdownHeadingCollapsed": true
   },
   "source": [
    "## isidentifier()\n",
    "returns true if string is in the list below"
   ]
  },
  {
   "cell_type": "code",
   "execution_count": 31,
   "id": "4c11f967-40ac-4531-84e8-3f2d139bed60",
   "metadata": {},
   "outputs": [
    {
     "name": "stdout",
     "output_type": "stream",
     "text": [
      "['False', 'None', 'True', 'and', 'as', 'assert', 'async', 'await', 'break', 'class', 'continue', 'def', 'del', 'elif', 'else', 'except', 'finally', 'for', 'from', 'global', 'if', 'import', 'in', 'is', 'lambda', 'nonlocal', 'not', 'or', 'pass', 'raise', 'return', 'try', 'while', 'with', 'yield']\n"
     ]
    }
   ],
   "source": [
    "import keyword\n",
    "print(keyword.kwlist)"
   ]
  },
  {
   "cell_type": "code",
   "execution_count": 32,
   "id": "f3992b61-4957-4e34-b253-775883ba2503",
   "metadata": {
    "scrolled": true
   },
   "outputs": [
    {
     "data": {
      "text/plain": [
       "[True,\n",
       " True,\n",
       " True,\n",
       " True,\n",
       " True,\n",
       " True,\n",
       " True,\n",
       " True,\n",
       " True,\n",
       " True,\n",
       " True,\n",
       " True,\n",
       " True,\n",
       " True,\n",
       " True,\n",
       " True,\n",
       " True,\n",
       " True,\n",
       " True,\n",
       " True,\n",
       " True,\n",
       " True,\n",
       " True,\n",
       " True,\n",
       " True,\n",
       " True,\n",
       " True,\n",
       " True,\n",
       " True,\n",
       " True,\n",
       " True,\n",
       " True,\n",
       " True,\n",
       " True,\n",
       " True]"
      ]
     },
     "execution_count": 32,
     "metadata": {},
     "output_type": "execute_result"
    }
   ],
   "source": [
    "[a.isidentifier() for a in keyword.kwlist]"
   ]
  },
  {
   "cell_type": "code",
   "execution_count": null,
   "id": "2ebc5aaf-4c41-4b72-9a65-b3c268f5defe",
   "metadata": {},
   "outputs": [],
   "source": []
  },
  {
   "cell_type": "markdown",
   "id": "07c6cc91-7849-43e1-94a7-87b539c0f7bc",
   "metadata": {
    "jp-MarkdownHeadingCollapsed": true
   },
   "source": [
    "## islower()"
   ]
  },
  {
   "cell_type": "code",
   "execution_count": 33,
   "id": "d570b2db-f055-4f68-a1bb-f3a29957ce93",
   "metadata": {},
   "outputs": [
    {
     "data": {
      "text/plain": [
       "True"
      ]
     },
     "execution_count": 33,
     "metadata": {},
     "output_type": "execute_result"
    }
   ],
   "source": [
    "'abc*123'.islower()"
   ]
  },
  {
   "cell_type": "markdown",
   "id": "3d0ddd13-77e0-48a8-ab41-69a28c5eb1ba",
   "metadata": {},
   "source": [
    "## isnumeric()"
   ]
  },
  {
   "cell_type": "code",
   "execution_count": 146,
   "id": "aa324519-6d52-4161-8aa3-3c67fd71ba72",
   "metadata": {},
   "outputs": [
    {
     "data": {
      "text/plain": [
       "True"
      ]
     },
     "execution_count": 146,
     "metadata": {},
     "output_type": "execute_result"
    }
   ],
   "source": [
    "'12'.isnumeric()\n"
   ]
  },
  {
   "cell_type": "markdown",
   "id": "908de046-3cb8-45dc-8ee4-1e862558e14f",
   "metadata": {},
   "source": [
    "## isprintable()"
   ]
  },
  {
   "cell_type": "code",
   "execution_count": 35,
   "id": "0e5266ff-7003-4bce-82ff-991bc34619a4",
   "metadata": {},
   "outputs": [
    {
     "name": "stdout",
     "output_type": "stream",
     "text": [
      "False\n"
     ]
    },
    {
     "data": {
      "text/plain": [
       "True"
      ]
     },
     "execution_count": 35,
     "metadata": {},
     "output_type": "execute_result"
    }
   ],
   "source": [
    "print('\\n\\t'.isprintable())\n",
    "a.isprintable()"
   ]
  },
  {
   "cell_type": "markdown",
   "id": "709dd699-51ea-4d82-bd6c-cfaa61d76865",
   "metadata": {},
   "source": [
    "## isspace()"
   ]
  },
  {
   "cell_type": "code",
   "execution_count": 147,
   "id": "14070d6d-d732-44ba-b9fa-0a4f21a1417c",
   "metadata": {},
   "outputs": [
    {
     "data": {
      "text/plain": [
       "True"
      ]
     },
     "execution_count": 147,
     "metadata": {},
     "output_type": "execute_result"
    }
   ],
   "source": [
    "'\\t '.isspace()"
   ]
  },
  {
   "cell_type": "markdown",
   "id": "62a52692-6539-4ce2-bd06-102214ea6dfa",
   "metadata": {},
   "source": [
    "## istitle()"
   ]
  },
  {
   "cell_type": "code",
   "execution_count": 37,
   "id": "2fb58b70-afed-479b-ac61-9272899b287c",
   "metadata": {},
   "outputs": [
    {
     "data": {
      "text/plain": [
       "False"
      ]
     },
     "execution_count": 37,
     "metadata": {},
     "output_type": "execute_result"
    }
   ],
   "source": [
    "'Hi. This is Sparta!'.istitle()\n",
    "# Only first letter should be capital."
   ]
  },
  {
   "cell_type": "markdown",
   "id": "997a860d-606d-44db-9770-e1604de7cb94",
   "metadata": {},
   "source": [
    "## istitle()"
   ]
  },
  {
   "cell_type": "code",
   "execution_count": 38,
   "id": "317fcf85-d68e-4e33-830a-7e0c133b9d82",
   "metadata": {},
   "outputs": [
    {
     "data": {
      "text/plain": [
       "True"
      ]
     },
     "execution_count": 38,
     "metadata": {},
     "output_type": "execute_result"
    }
   ],
   "source": [
    "'Hi'.istitle()\n",
    "# Only first letter should be capital."
   ]
  },
  {
   "cell_type": "markdown",
   "id": "1a9e3268-9829-44aa-85d9-6620f4ee84bb",
   "metadata": {},
   "source": [
    "## isupper()"
   ]
  },
  {
   "cell_type": "code",
   "execution_count": 39,
   "id": "55cdb9be-8305-4253-bca9-e47a450d6dd4",
   "metadata": {},
   "outputs": [
    {
     "data": {
      "text/plain": [
       "True"
      ]
     },
     "execution_count": 39,
     "metadata": {},
     "output_type": "execute_result"
    }
   ],
   "source": [
    "'HI. THIS IS SPARTA!!!'.isupper()"
   ]
  },
  {
   "cell_type": "markdown",
   "id": "8aec5e58-8239-4fc1-99e0-e22db4a19b81",
   "metadata": {},
   "source": [
    "## join()"
   ]
  },
  {
   "cell_type": "code",
   "execution_count": 40,
   "id": "30030a78-48f8-447e-a39d-f116fb615b8a",
   "metadata": {},
   "outputs": [
    {
     "data": {
      "text/plain": [
       "'This is how you concat list-elements to a string'"
      ]
     },
     "execution_count": 40,
     "metadata": {},
     "output_type": "execute_result"
    }
   ],
   "source": [
    "' '.join(['This','is','how','you','concat','list-elements','to a string'])\n"
   ]
  },
  {
   "cell_type": "markdown",
   "id": "f644fbb1-3d91-4ac6-97ed-025c7d6c0b40",
   "metadata": {},
   "source": [
    "## ljust()"
   ]
  },
  {
   "cell_type": "code",
   "execution_count": 41,
   "id": "f6a03a4a-de89-4819-889a-38b0ce883f3a",
   "metadata": {
    "scrolled": true
   },
   "outputs": [
    {
     "data": {
      "text/plain": [
       "'@abC D 12*- Jack. i am learning string functions.***************************************************'"
      ]
     },
     "execution_count": 41,
     "metadata": {},
     "output_type": "execute_result"
    }
   ],
   "source": [
    "a.ljust(100,'*')\n",
    "# Brother of str.center()"
   ]
  },
  {
   "cell_type": "markdown",
   "id": "3ec22075-b58a-4ba1-afe8-555eca8f7b1d",
   "metadata": {},
   "source": [
    "## lower()"
   ]
  },
  {
   "cell_type": "code",
   "execution_count": 42,
   "id": "da4cb5dc-3de1-4236-a21c-6e2ef745b651",
   "metadata": {
    "scrolled": true
   },
   "outputs": [
    {
     "data": {
      "text/plain": [
       "'abc123!@#'"
      ]
     },
     "execution_count": 42,
     "metadata": {},
     "output_type": "execute_result"
    }
   ],
   "source": [
    "'ABC123!@#'.lower()\n"
   ]
  },
  {
   "cell_type": "markdown",
   "id": "e2cda671-f7c4-4ae1-ae92-11a2c59e9028",
   "metadata": {},
   "source": [
    "## lstrip()"
   ]
  },
  {
   "cell_type": "code",
   "execution_count": 43,
   "id": "60b17f40-e9fa-4ba5-a7fa-aaba3c41e378",
   "metadata": {},
   "outputs": [
    {
     "name": "stdout",
     "output_type": "stream",
     "text": [
      "Hi\n"
     ]
    },
    {
     "data": {
      "text/plain": [
       "'abC D 12*- Jack. i am learning string functions.'"
      ]
     },
     "execution_count": 43,
     "metadata": {},
     "output_type": "execute_result"
    }
   ],
   "source": [
    "print('\\tHi'.lstrip()) # default arg being space/tabs.\n",
    "a.lstrip('@')"
   ]
  },
  {
   "cell_type": "code",
   "execution_count": null,
   "id": "68c8b9a3-3197-45fb-af87-750b0823c478",
   "metadata": {},
   "outputs": [],
   "source": []
  },
  {
   "cell_type": "markdown",
   "id": "4f4cefc2-5442-451a-992b-aee803fa02f1",
   "metadata": {
    "jp-MarkdownHeadingCollapsed": true
   },
   "source": [
    "## maketrans() and translate()"
   ]
  },
  {
   "cell_type": "code",
   "execution_count": 44,
   "id": "010ce0c0-790b-495d-9a48-a764b841522e",
   "metadata": {},
   "outputs": [
    {
     "name": "stdout",
     "output_type": "stream",
     "text": [
      "G i Joe!\n"
     ]
    }
   ],
   "source": [
    "txt = \"Good night Sam!\"\n",
    "\n",
    "x = \"mSa\"\n",
    "y = \"eJo\"\n",
    "z = \"odnght\"\n",
    "\n",
    "mytable = str.maketrans(x, y, z)\n",
    "\n",
    "print(txt.translate(mytable))"
   ]
  },
  {
   "cell_type": "code",
   "execution_count": 45,
   "id": "d7f2b92b-1fe4-4cf8-be0d-434c6ae0cad0",
   "metadata": {},
   "outputs": [
    {
     "name": "stdout",
     "output_type": "stream",
     "text": [
      "{109: 101, 83: 74, 97: 111, 111: None, 100: None, 110: None, 103: None, 104: None, 116: None}\n"
     ]
    }
   ],
   "source": [
    "print(mytable)\n",
    "# so maketrans creates a map of which key decimal value of char to replace with with which char. 109 corresponds to m and 101 to e. the z parameter tells what to omit from the string.\n",
    "# str.translate now uses this map to make the replacements.\n"
   ]
  },
  {
   "cell_type": "code",
   "execution_count": 46,
   "id": "4a7f7ce4-d32a-4042-bf8b-80fa172ba2b5",
   "metadata": {},
   "outputs": [
    {
     "data": {
      "text/plain": [
       "(109, 101)"
      ]
     },
     "execution_count": 46,
     "metadata": {},
     "output_type": "execute_result"
    }
   ],
   "source": [
    "ord(\"m\"),ord(\"e\") #getting ascii codes"
   ]
  },
  {
   "cell_type": "code",
   "execution_count": 47,
   "id": "8dc5b5ff-81c0-4fb0-8a67-771ae469dc3b",
   "metadata": {},
   "outputs": [
    {
     "data": {
      "text/plain": [
       "'m'"
      ]
     },
     "execution_count": 47,
     "metadata": {},
     "output_type": "execute_result"
    }
   ],
   "source": [
    "chr(109)"
   ]
  },
  {
   "cell_type": "code",
   "execution_count": null,
   "id": "40ca1caf-e0e0-457e-9517-26c808c9d6d6",
   "metadata": {},
   "outputs": [],
   "source": []
  },
  {
   "cell_type": "markdown",
   "id": "017721ba-c453-410e-ac2b-06bb3ce856f5",
   "metadata": {
    "jp-MarkdownHeadingCollapsed": true
   },
   "source": [
    "## partition()"
   ]
  },
  {
   "cell_type": "code",
   "execution_count": 48,
   "id": "f9e56f14-c455-40d1-b946-7d8a18d3f782",
   "metadata": {},
   "outputs": [
    {
     "data": {
      "text/plain": [
       "('I like fish ', 'and', ' chips!')"
      ]
     },
     "execution_count": 48,
     "metadata": {},
     "output_type": "execute_result"
    }
   ],
   "source": [
    "'I like fish and chips!'.partition('and')\n",
    "# returns 3 element list\n"
   ]
  },
  {
   "cell_type": "code",
   "execution_count": 49,
   "id": "bb78e830-1167-4ccd-b900-ff378d1ff803",
   "metadata": {},
   "outputs": [
    {
     "data": {
      "text/plain": [
       "('I like fish ', 'and', ' chips and juice!')"
      ]
     },
     "execution_count": 49,
     "metadata": {},
     "output_type": "execute_result"
    }
   ],
   "source": [
    "'I like fish and chips and juice!'.partition('and')\n",
    "# returns 3 element list still\n"
   ]
  },
  {
   "cell_type": "code",
   "execution_count": 50,
   "id": "3f1a110d-08e3-4ef5-a061-2260c0b01489",
   "metadata": {},
   "outputs": [
    {
     "data": {
      "text/plain": [
       "('I like fish and chips and juice!', '', '')"
      ]
     },
     "execution_count": 50,
     "metadata": {},
     "output_type": "execute_result"
    }
   ],
   "source": [
    "'I like fish and chips and juice!'.partition('*')\n",
    "# returns 3 element list, empty two last bits if there is no delimiter substring found.\n"
   ]
  },
  {
   "cell_type": "code",
   "execution_count": null,
   "id": "680d3d98-0248-4828-a7dd-0d64bbd7089c",
   "metadata": {},
   "outputs": [],
   "source": []
  },
  {
   "cell_type": "code",
   "execution_count": null,
   "id": "4eda74bf-8110-4232-acd6-39aa69435a8a",
   "metadata": {},
   "outputs": [],
   "source": []
  },
  {
   "cell_type": "markdown",
   "id": "3bb8c368-5564-4c17-bbd4-a72902f03cbe",
   "metadata": {},
   "source": [
    "## removeprefix()"
   ]
  },
  {
   "cell_type": "code",
   "execution_count": 59,
   "id": "20451d8c-09d4-476f-b58d-7b4941c8b173",
   "metadata": {},
   "outputs": [
    {
     "data": {
      "text/plain": [
       "'Jack Jr.'"
      ]
     },
     "execution_count": 59,
     "metadata": {},
     "output_type": "execute_result"
    }
   ],
   "source": [
    "'Mr. Jack Jr.'.removeprefix('Mr. ')"
   ]
  },
  {
   "cell_type": "code",
   "execution_count": null,
   "id": "243b4f93-4653-4aa4-abae-94ec77892bd2",
   "metadata": {},
   "outputs": [],
   "source": []
  },
  {
   "cell_type": "markdown",
   "id": "6e4bc840-b95d-4574-b2be-366b9a7c4c36",
   "metadata": {},
   "source": [
    "## removesuffix()"
   ]
  },
  {
   "cell_type": "code",
   "execution_count": 60,
   "id": "697aa9ca-00b7-4531-bae3-f08ee94caae7",
   "metadata": {},
   "outputs": [
    {
     "data": {
      "text/plain": [
       "'Mr. Jack'"
      ]
     },
     "execution_count": 60,
     "metadata": {},
     "output_type": "execute_result"
    }
   ],
   "source": [
    "'Mr. Jack Jr.'.removesuffix(' Jr.')\n"
   ]
  },
  {
   "cell_type": "markdown",
   "id": "fbabb92f-6a65-4fc4-9375-f4d0652237cd",
   "metadata": {},
   "source": [
    "## replace()"
   ]
  },
  {
   "cell_type": "code",
   "execution_count": 65,
   "id": "3adc08fa-3007-45ae-95a3-d24ffe2e733a",
   "metadata": {},
   "outputs": [
    {
     "name": "stdout",
     "output_type": "stream",
     "text": [
      "x x x\n",
      "x x a\n",
      "x a a\n"
     ]
    }
   ],
   "source": [
    "print('a a a'.replace('a','x',-1)) #default\n",
    "print('a a a'.replace('a','x',2)) #replaces first 2 instances\n",
    "print('a a a'.replace('a','x',1)) #replaces first instance"
   ]
  },
  {
   "cell_type": "markdown",
   "id": "a298a88d-30f7-43de-b689-122ba4a462cc",
   "metadata": {},
   "source": [
    "## rfind()"
   ]
  },
  {
   "cell_type": "code",
   "execution_count": 75,
   "id": "695acee9-45b7-4abd-bcf6-816506c4ba3a",
   "metadata": {},
   "outputs": [
    {
     "name": "stdout",
     "output_type": "stream",
     "text": [
      "@abC D 12*- Jack. i am learning string functions.\n",
      "25\n",
      "earning string functions.\n",
      "-1\n"
     ]
    }
   ],
   "source": [
    "print(a)\n",
    "print(a.rfind('a')) #first instance index from the right. sister functions of index() and find functions. only difference being direction of search.\n",
    "print(a[24:])\n",
    "print(a.rfind('A'))"
   ]
  },
  {
   "cell_type": "markdown",
   "id": "1449ab25-f342-4142-bed9-79e4ab0a6cdd",
   "metadata": {},
   "source": []
  },
  {
   "cell_type": "markdown",
   "id": "7395676b-be93-4649-836b-f3ed208c326b",
   "metadata": {},
   "source": []
  },
  {
   "cell_type": "markdown",
   "id": "3f451099-059c-43fb-b763-3ff13d537a11",
   "metadata": {},
   "source": [
    "## rindex()"
   ]
  },
  {
   "cell_type": "code",
   "execution_count": 151,
   "id": "27db6c10-20fd-4bc8-86b1-266493e92efb",
   "metadata": {},
   "outputs": [
    {
     "ename": "ValueError",
     "evalue": "substring not found",
     "output_type": "error",
     "traceback": [
      "\u001b[1;31m---------------------------------------------------------------------------\u001b[0m",
      "\u001b[1;31mValueError\u001b[0m                                Traceback (most recent call last)",
      "Cell \u001b[1;32mIn[151], line 1\u001b[0m\n\u001b[1;32m----> 1\u001b[0m \u001b[43ma\u001b[49m\u001b[38;5;241;43m.\u001b[39;49m\u001b[43mrindex\u001b[49m\u001b[43m(\u001b[49m\u001b[38;5;124;43m'\u001b[39;49m\u001b[38;5;124;43mA\u001b[39;49m\u001b[38;5;124;43m'\u001b[39;49m\u001b[43m)\u001b[49m\n",
      "\u001b[1;31mValueError\u001b[0m: substring not found"
     ]
    }
   ],
   "source": [
    "a.rindex('A')\n"
   ]
  },
  {
   "cell_type": "code",
   "execution_count": null,
   "id": "d1175056-cfa0-4db5-ab1f-92a9b7db3f3b",
   "metadata": {},
   "outputs": [],
   "source": []
  },
  {
   "cell_type": "markdown",
   "id": "55949699-eda0-468a-99e8-94b255ab0048",
   "metadata": {},
   "source": [
    "## rjust()"
   ]
  },
  {
   "cell_type": "code",
   "execution_count": 152,
   "id": "8a7c93f9-31de-4c51-95f0-9e50549c123d",
   "metadata": {},
   "outputs": [
    {
     "data": {
      "text/plain": [
       "'------------------------------------------------------------------------------------------------test'"
      ]
     },
     "execution_count": 152,
     "metadata": {},
     "output_type": "execute_result"
    }
   ],
   "source": [
    "a.rjust(100,'-') #sister function of center() function\n"
   ]
  },
  {
   "cell_type": "markdown",
   "id": "66ec669d-10c0-43b0-a3bc-76896c00d0f0",
   "metadata": {},
   "source": [
    "## rpartition()"
   ]
  },
  {
   "cell_type": "code",
   "execution_count": 153,
   "id": "229df5ad-3b27-454c-b1b3-df7a6a204bbd",
   "metadata": {},
   "outputs": [
    {
     "data": {
      "text/plain": [
       "('', '', 'test')"
      ]
     },
     "execution_count": 153,
     "metadata": {},
     "output_type": "execute_result"
    }
   ],
   "source": [
    "a.rpartition('a') # sister function of partition() function.\n"
   ]
  },
  {
   "cell_type": "markdown",
   "id": "5b43389d-d960-494d-80ac-4d8ebfedcdbc",
   "metadata": {},
   "source": [
    "## rsplit()"
   ]
  },
  {
   "cell_type": "code",
   "execution_count": 154,
   "id": "7b4ce3e7-d716-469e-9879-e0f333427839",
   "metadata": {},
   "outputs": [
    {
     "data": {
      "text/plain": [
       "['test']"
      ]
     },
     "execution_count": 154,
     "metadata": {},
     "output_type": "execute_result"
    }
   ],
   "source": [
    "a.rsplit('a',1) #Sister function of split function. splits from right dir till specified number of iterations.\n"
   ]
  },
  {
   "cell_type": "markdown",
   "id": "ac6f62fd-61ec-429b-886b-90750aaebbf6",
   "metadata": {},
   "source": [
    "## rstrip()"
   ]
  },
  {
   "cell_type": "code",
   "execution_count": 155,
   "id": "38bc9007-b7c5-41e3-b02e-575b0e17aa58",
   "metadata": {},
   "outputs": [
    {
     "name": "stdout",
     "output_type": "stream",
     "text": [
      "\t\tHi\t#\n"
     ]
    },
    {
     "data": {
      "text/plain": [
       "'test'"
      ]
     },
     "execution_count": 155,
     "metadata": {},
     "output_type": "execute_result"
    }
   ],
   "source": [
    "print('\\t\\tHi\\t#*'.rstrip('*')) # default arg being space/tabs. sister function of lstrip\n",
    "a.rstrip('@') #Only works if the char passed is not in the end of string."
   ]
  },
  {
   "cell_type": "markdown",
   "id": "e71a03e0-46c8-4f67-91e8-5ced866af0f8",
   "metadata": {},
   "source": [
    "## split()"
   ]
  },
  {
   "cell_type": "code",
   "execution_count": 156,
   "id": "e12978bc-71dc-4922-a5ea-a0c2b1af3228",
   "metadata": {},
   "outputs": [
    {
     "data": {
      "text/plain": [
       "['test']"
      ]
     },
     "execution_count": 156,
     "metadata": {},
     "output_type": "execute_result"
    }
   ],
   "source": [
    "a.split('a',1) #splits from left dir"
   ]
  },
  {
   "cell_type": "markdown",
   "id": "2843e650-4893-4f55-8171-83e295fbad19",
   "metadata": {},
   "source": [
    "## splitlines()"
   ]
  },
  {
   "cell_type": "code",
   "execution_count": 157,
   "id": "7688ae20-5d42-4346-8f1d-489806f18ba7",
   "metadata": {},
   "outputs": [
    {
     "data": {
      "text/plain": [
       "['Hi This is a test for splitlines function.',\n",
       " 'If there is a newline character, splitlines will split based on \\\\n character.']"
      ]
     },
     "execution_count": 157,
     "metadata": {},
     "output_type": "execute_result"
    }
   ],
   "source": [
    "'''Hi This is a test for splitlines function.\n",
    "If there is a newline character, splitlines will split based on \\\\n character.'''.splitlines()"
   ]
  },
  {
   "cell_type": "markdown",
   "id": "15424204-5976-4c7c-8d84-420262459da6",
   "metadata": {},
   "source": [
    "## startswith()"
   ]
  },
  {
   "cell_type": "code",
   "execution_count": 158,
   "id": "9f8822ed-1f65-4e5a-9f23-0958975bbfe8",
   "metadata": {},
   "outputs": [
    {
     "data": {
      "text/plain": [
       "False"
      ]
     },
     "execution_count": 158,
     "metadata": {},
     "output_type": "execute_result"
    }
   ],
   "source": [
    "a.startswith('@') #returns flag if prefix matches the phrase passed in the argument.\n"
   ]
  },
  {
   "cell_type": "markdown",
   "id": "03532f6a-db3a-4ff8-8a20-4bfabd28d7db",
   "metadata": {},
   "source": [
    "## strip()"
   ]
  },
  {
   "cell_type": "code",
   "execution_count": 159,
   "id": "dc3bd220-003e-4c69-8a94-f95930b29e04",
   "metadata": {},
   "outputs": [
    {
     "name": "stdout",
     "output_type": "stream",
     "text": [
      "\t\tHi\t#\n"
     ]
    },
    {
     "data": {
      "text/plain": [
       "'.'"
      ]
     },
     "execution_count": 159,
     "metadata": {},
     "output_type": "execute_result"
    }
   ],
   "source": [
    "print('*\\t\\tHi\\t#*'.strip('*')) # default arg being space/tabs. sister function of lstrip/rstrip\n",
    "'*.*'.strip('*') #works at both ends of the string"
   ]
  },
  {
   "cell_type": "markdown",
   "id": "ec25cdf5-4f99-4945-b954-17eae01eb750",
   "metadata": {},
   "source": [
    "## swapcase()"
   ]
  },
  {
   "cell_type": "code",
   "execution_count": 160,
   "id": "45d9c3a6-cff1-49cd-9caa-6dbd5d022046",
   "metadata": {},
   "outputs": [
    {
     "data": {
      "text/plain": [
       "'hI'"
      ]
     },
     "execution_count": 160,
     "metadata": {},
     "output_type": "execute_result"
    }
   ],
   "source": [
    "'Hi'.swapcase() #inverts the case\n"
   ]
  },
  {
   "cell_type": "markdown",
   "id": "164c0be7-5ff4-4ef6-8cf1-339718ace1d3",
   "metadata": {},
   "source": [
    "## title()"
   ]
  },
  {
   "cell_type": "code",
   "execution_count": 161,
   "id": "9b004121-5924-43b2-8675-1c4d84df74d9",
   "metadata": {},
   "outputs": [
    {
     "data": {
      "text/plain": [
       "'Jack And Jill Went Up The Hill To Fetch A Pail Of Water.'"
      ]
     },
     "execution_count": 161,
     "metadata": {},
     "output_type": "execute_result"
    }
   ],
   "source": [
    "'jack and jill went up the hill to fetch a pail of water.'.title() #\n"
   ]
  },
  {
   "cell_type": "markdown",
   "id": "8a720776-3dcd-4658-b711-24ecc68aa4e4",
   "metadata": {},
   "source": [
    "## translate()"
   ]
  },
  {
   "cell_type": "code",
   "execution_count": null,
   "id": "f14a0f79-a1a6-4d31-98d6-89cd8527b558",
   "metadata": {
    "scrolled": true
   },
   "outputs": [],
   "source": [
    "a.translate() #translates a string using a ascii code dictonary. example demo'ed above."
   ]
  },
  {
   "cell_type": "markdown",
   "id": "f28edb08-eb59-460c-b0ae-19c92796275e",
   "metadata": {},
   "source": [
    "## upper()"
   ]
  },
  {
   "cell_type": "code",
   "execution_count": 163,
   "id": "323adc82-c129-4fe6-9bf1-897df6c5e2d8",
   "metadata": {},
   "outputs": [
    {
     "data": {
      "text/plain": [
       "'JACK AND JILL WENT UP THE HILL TO FETCH A PAIL OF WATER.'"
      ]
     },
     "execution_count": 163,
     "metadata": {},
     "output_type": "execute_result"
    }
   ],
   "source": [
    "'jack and jill went up the hill to fetch a pail of water.'.upper()\n"
   ]
  },
  {
   "cell_type": "markdown",
   "id": "2b99ff3a-5ce7-4adb-88bc-ea8dfc94d914",
   "metadata": {},
   "source": [
    "## zfill()"
   ]
  },
  {
   "cell_type": "code",
   "execution_count": 164,
   "id": "f81452d3-2efb-4fba-b1ca-268da645d03e",
   "metadata": {},
   "outputs": [
    {
     "name": "stdout",
     "output_type": "stream",
     "text": [
      "007\n",
      "00000id123\n",
      "id123\n"
     ]
    }
   ],
   "source": [
    "print('7'.zfill(3)) #useful to maintain fixed len of a variable like ID\n",
    "print('id123'.zfill(10)) #fills with zero at the beg\n",
    "print('id123'.zfill(2)) #does not throw an error if the string len excceds the expectation."
   ]
  },
  {
   "cell_type": "code",
   "execution_count": null,
   "id": "88501a2f-3cfc-41cb-bdda-32098d3d97c3",
   "metadata": {},
   "outputs": [],
   "source": []
  },
  {
   "cell_type": "code",
   "execution_count": null,
   "id": "537ac796-3f14-49ff-9746-7472ed969812",
   "metadata": {},
   "outputs": [],
   "source": []
  },
  {
   "cell_type": "code",
   "execution_count": null,
   "id": "af2f55dc-b18f-4739-969f-9d15ea1dc6ee",
   "metadata": {},
   "outputs": [],
   "source": []
  }
 ],
 "metadata": {
  "kernelspec": {
   "display_name": "Python 3 (ipykernel)",
   "language": "python",
   "name": "python3"
  },
  "language_info": {
   "codemirror_mode": {
    "name": "ipython",
    "version": 3
   },
   "file_extension": ".py",
   "mimetype": "text/x-python",
   "name": "python",
   "nbconvert_exporter": "python",
   "pygments_lexer": "ipython3",
   "version": "3.11.5"
  }
 },
 "nbformat": 4,
 "nbformat_minor": 5
}
